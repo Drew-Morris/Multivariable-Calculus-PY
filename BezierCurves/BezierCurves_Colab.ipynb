{
  "nbformat": 4,
  "nbformat_minor": 0,
  "metadata": {
    "colab": {
      "name": "BezierCurves-Colab.ipynb",
      "provenance": []
    },
    "kernelspec": {
      "name": "python3",
      "display_name": "Python 3"
    },
    "language_info": {
      "name": "python"
    }
  },
  "cells": [
    {
      "cell_type": "code",
      "execution_count": null,
      "metadata": {
        "id": "ZKt-qphaV-6v"
      },
      "outputs": [],
      "source": [
        "import numpy as np\n",
        "import sympy as sp\n",
        "import math\n",
        "from matplotlib import pyplot as plt"
      ]
    },
    {
      "cell_type": "code",
      "source": [
        "def DeCasteljau(M,t):\n",
        "  assert 0 <= t\n",
        "  assert 1 >= t\n",
        "  M = np.array(M)\n",
        "  #port M to numpy\n",
        "  dimPoint = np.shape(M)[1]\n",
        "  #point dimension\n",
        "  arrCurr = np.copy(M)\n",
        "  #current point array\n",
        "  numPoints = np.shape(arrCurr)[0]\n",
        "  #current number of points\n",
        "  arrEmpt = np.empty([0,dimPoint])\n",
        "  #empty array of appropriate dimension\n",
        "  pointEmpt = np.empty([0,0])\n",
        "  #empty point\n",
        "  arrRecur = np.copy(arrEmpt)\n",
        "  #current recursive array\n",
        "  while numPoints > 1:\n",
        "    for n in range(numPoints-1):\n",
        "      pointEval = np.copy(pointEmpt)\n",
        "      #current point evaluation\n",
        "      arrVec = np.array([arrCurr[n],arrCurr[n+1]])\n",
        "      arrVec = np.transpose(arrVec)\n",
        "      for i in range(dimPoint):\n",
        "        vecComp = np.array([((-t+1)*arrVec[i][0])+(t*arrVec[i][1])])\n",
        "        #vector component\n",
        "        pointEval = np.concatenate((pointEval,vecComp),axis=None)\n",
        "      pointEval = np.array([pointEval])\n",
        "      arrRecur = np.concatenate((arrRecur,pointEval),axis=0)\n",
        "      pointEval = np.copy(pointEmpt)\n",
        "      #add pointEval to arrRecur and clear pointEval\n",
        "    arrCurr = np.copy(arrRecur)\n",
        "    arrRecur = np.copy(arrEmpt)\n",
        "    #set arrCurr to arrRecur and clear arrRecur\n",
        "    numPoints = np.shape(arrCurr)[0]\n",
        "    #update numPoints\n",
        "  assert numPoints == 1\n",
        "  return arrCurr"
      ],
      "metadata": {
        "id": "aGHE5BEJb2Ai"
      },
      "execution_count": null,
      "outputs": []
    },
    {
      "cell_type": "code",
      "source": [
        "#using list form instead of numpy arrays\n",
        "def BezierPoint(M,t):\n",
        "  numPoints = len(M)\n",
        "  R = []\n",
        "  #new point list\n",
        "  V = []\n",
        "  #point vector\n",
        "  if numPoints == 1:\n",
        "    return M[0]\n",
        "  else:\n",
        "    for i in range(len(M)-1):\n",
        "      V = []\n",
        "      A = M[i]\n",
        "      B = M[i+1]\n",
        "      for j in range(len(M[i])):\n",
        "        V += [((-t+1)*(A[j]) + t*(B[j]))]\n",
        "        #evaluate each dimensional component of the vector from A to B\n",
        "      R += [V]\n",
        "    return BezierPoint(R,t)"
      ],
      "metadata": {
        "id": "dJWk-XbLtiaq"
      },
      "execution_count": null,
      "outputs": []
    },
    {
      "cell_type": "code",
      "source": [
        "def BezierPlot2D(M):\n",
        "  timeSteps = np.linspace(0,1,num=100)\n",
        "  orderedPlotPoints = np.empty([0,2])\n",
        "  for t in range(len(timeSteps)):\n",
        "    orderedPlotPoints = np.concatenate((orderedPlotPoints,DeCasteljau(M,timeSteps[t])))\n",
        "  parametricSegments = np.transpose(orderedPlotPoints)\n",
        "  x = parametricSegments[0]\n",
        "  y = parametricSegments[1]\n",
        "  plt.plot(x,y)\n",
        "  plt.show()\n",
        "  return"
      ],
      "metadata": {
        "id": "aNa3x_1XqF2q"
      },
      "execution_count": null,
      "outputs": []
    },
    {
      "cell_type": "code",
      "source": [
        "def BezierPlot(M):\n",
        "  timeSteps = np.linspace(0,1,num=100)\n",
        "  curvePoints = []\n",
        "  for k in range(len(timeSteps)):\n",
        "    curvePoints += [BezierPoint(M,k)]\n",
        "  x = []\n",
        "  y = []\n",
        "  for p in range(len(curvePoints)):\n",
        "    x += [curvePoints[p][0]]\n",
        "    y += [curvePoints[p][1]]\n",
        "  print(x)\n",
        "  print(y)\n",
        "  plt.plot(x,y)\n",
        "  plt.show()"
      ],
      "metadata": {
        "id": "KG0ULZOMvMCn"
      },
      "execution_count": null,
      "outputs": []
    },
    {
      "cell_type": "code",
      "source": [
        "A = [[-.75,.25],[-.25,.75],[.4,.4],[.25,-.5]]"
      ],
      "metadata": {
        "id": "IYPKaHBl1nU2"
      },
      "execution_count": null,
      "outputs": []
    },
    {
      "cell_type": "code",
      "source": [
        "BezierPoint(A,0.5)"
      ],
      "metadata": {
        "colab": {
          "base_uri": "https://localhost:8080/"
        },
        "id": "uoKW5osnwpuD",
        "outputId": "76c76950-7dba-4152-e99f-57d0c88a0ef9"
      },
      "execution_count": null,
      "outputs": [
        {
          "output_type": "stream",
          "name": "stdout",
          "text": [
            "[-0.5]\n",
            "[-0.5, 0.5]\n",
            "[[-0.5, 0.5]]\n",
            "[0.07500000000000001]\n",
            "[0.07500000000000001, 0.575]\n",
            "[[-0.5, 0.5], [0.07500000000000001, 0.575]]\n",
            "[0.325]\n",
            "[0.325, -0.04999999999999999]\n",
            "[[-0.5, 0.5], [0.07500000000000001, 0.575], [0.325, -0.04999999999999999]]\n",
            "[-0.2125]\n",
            "[-0.2125, 0.5375]\n",
            "[[-0.2125, 0.5375]]\n",
            "[0.2]\n",
            "[0.2, 0.26249999999999996]\n",
            "[[-0.2125, 0.5375], [0.2, 0.26249999999999996]]\n",
            "[-0.006249999999999992]\n",
            "[-0.006249999999999992, 0.39999999999999997]\n",
            "[[-0.006249999999999992, 0.39999999999999997]]\n"
          ]
        },
        {
          "output_type": "execute_result",
          "data": {
            "text/plain": [
              "[-0.006249999999999992, 0.39999999999999997]"
            ]
          },
          "metadata": {},
          "execution_count": 43
        }
      ]
    },
    {
      "cell_type": "code",
      "source": [
        "DeCasteljau(A,0.5)"
      ],
      "metadata": {
        "colab": {
          "base_uri": "https://localhost:8080/"
        },
        "id": "yDuNTASK2_Hk",
        "outputId": "892e2564-302c-4cef-c1b4-e66bfb2f1904"
      },
      "execution_count": null,
      "outputs": [
        {
          "output_type": "execute_result",
          "data": {
            "text/plain": [
              "array([[-0.00625,  0.4    ]])"
            ]
          },
          "metadata": {},
          "execution_count": 35
        }
      ]
    },
    {
      "cell_type": "code",
      "source": [
        "BezierPlot(A)"
      ],
      "metadata": {
        "colab": {
          "base_uri": "https://localhost:8080/",
          "height": 319
        },
        "id": "vIib9e6tuOEB",
        "outputId": "2a166b05-61d9-4bb5-fed6-5f044d7ca964"
      },
      "execution_count": null,
      "outputs": [
        {
          "output_type": "stream",
          "name": "stdout",
          "text": [
            "[-0.75, 0.25, -3.5500000000000003, -17.85, -48.35000000000001, -100.75, -180.75, -294.05000000000007, -446.35, -643.3499999999999, -890.75, -1194.25, -1559.5500000000004, -1992.35, -2498.3500000000004, -3083.25, -3752.75, -4512.550000000001, -5368.349999999999, -6325.850000000001, -7390.75, -8568.75, -9865.550000000001, -11286.850000000002, -12838.350000000002, -14525.75, -16354.749999999998, -18331.050000000003, -20460.350000000002, -22748.350000000006, -25200.75, -27823.25, -30621.550000000003, -33601.350000000006, -36768.350000000006, -40128.25, -43686.75, -47449.55, -51422.35000000001, -55610.85000000001, -60020.75, -64657.75, -69527.55000000002, -74635.85, -79988.35, -85590.75, -91448.75, -97568.05000000002, -103954.35000000002, -110613.35000000003, -117550.75, -124772.25000000003, -132283.55, -140090.35, -148198.35000000003, -156613.25, -165340.75000000003, -174386.55, -183756.35000000003, -193455.85000000003, -203490.75, -213866.75000000006, -224589.55, -235664.85000000003, -247098.35000000003, -258895.75, -271062.75000000006, -283605.05, -296528.35000000003, -309838.35000000003, -323540.75, -337641.2500000001, -352145.55, -367059.35000000003, -382388.35000000003, -398138.25, -414314.75000000006, -430923.55, -447970.35000000003, -465460.85000000003, -483400.75, -501795.75, -520651.55000000005, -539973.8500000001, -559768.3500000001, -580040.75, -600796.75, -622042.05, -643782.3500000002, -666023.3500000001, -688770.75, -712030.25, -735807.55, -760108.3500000002, -784938.3500000001, -810303.25, -836208.7500000002, -862660.55, -889664.3500000002, -917225.8499999999]\n",
            "[0.25, -0.5, -4.549999999999999, -10.1, -15.350000000000009, -18.5, -17.750000000000014, -11.300000000000068, 2.6499999999999204, 25.899999999999977, 60.25, 107.5, 169.4499999999996, 247.9000000000001, 344.6500000000001, 461.49999999999955, 600.25, 762.6999999999994, 950.6499999999987, 1165.8999999999996, 1410.25, 1685.5, 1993.4500000000007, 2335.899999999998, 2714.649999999996, 3131.5, 3588.25, 4086.7000000000007, 4628.65, 5215.899999999992, 5850.25, 6533.499999999996, 7267.450000000001, 8053.9000000000015, 8894.649999999987, 9791.5, 10746.25, 11760.700000000004, 12836.650000000005, 13975.899999999987, 15180.25, 16451.499999999993, 17791.44999999999, 19201.900000000016, 20684.649999999987, 22241.5, 23874.25, 25584.69999999999, 27374.65, 29245.899999999965, 31200.25, 33239.5, 35365.45, 37579.90000000001, 39884.649999999965, 42281.5, 44772.249999999985, 47358.69999999995, 50042.65000000001, 52825.899999999965, 55710.25, 58697.5, 61789.44999999995, 64987.899999999994, 68294.64999999997, 71711.5, 75240.25, 78882.69999999995, 82640.65, 86515.89999999997, 90510.25, 94625.5, 98863.44999999995, 103225.9, 107714.65000000002, 112331.5, 117078.25, 121956.69999999992, 126968.64999999997, 132115.90000000002, 137400.25, 142823.5, 148387.44999999995, 154093.8999999999, 159944.65000000002, 165941.50000000006, 172086.25, 178380.7, 184826.64999999985, 191425.90000000002, 198180.25000000006, 205091.5, 212161.45, 219391.89999999985, 226784.65000000002, 234341.50000000006, 242064.25, 249954.69999999978, 258014.6499999998, 266245.8999999999]\n"
          ]
        },
        {
          "output_type": "display_data",
          "data": {
            "image/png": "[encoded data removed]",
            "text/plain": [
              "<Figure size 432x288 with 1 Axes>"
            ]
          },
          "metadata": {
            "needs_background": "light"
          }
        }
      ]
    },
    {
      "cell_type": "code",
      "source": [
        "BezierPlot2D(A)"
      ],
      "metadata": {
        "colab": {
          "base_uri": "https://localhost:8080/",
          "height": 265
        },
        "id": "iYmrU0FP2kzC",
        "outputId": "ec2d42de-a76e-408b-b34c-09d0b9aebb77"
      },
      "execution_count": null,
      "outputs": [
        {
          "output_type": "display_data",
          "data": {
            "image/png": "[encoded data removed]",
            "text/plain": [
              "<Figure size 432x288 with 1 Axes>"
            ]
          },
          "metadata": {
            "needs_background": "light"
          }
        }
      ]
    }
  ]
}