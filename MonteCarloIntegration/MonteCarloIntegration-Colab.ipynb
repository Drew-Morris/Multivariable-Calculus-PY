{
  "cells": [
    {
      "cell_type": "code",
      "execution_count": 1,
      "metadata": {
        "colab": {
          "base_uri": "https://localhost:8080/"
        },
        "id": "HppbahD7B7rT",
        "outputId": "76134664-b8eb-464f-b297-a815ce30631b"
      },
      "outputs": [
        {
          "output_type": "stream",
          "name": "stdout",
          "text": [
            "4.9384208\n"
          ]
        }
      ],
      "source": [
        "import numpy as np\n",
        "from scipy import linalg as la\n",
        "\n",
        "def openBallVolume(n, N = 10**4):\n",
        "  points = np.random.uniform(-1,1,(n,N))\n",
        "  lengths = la.norm(points, axis=0)\n",
        "  num_within = np.count_nonzero(lengths < 1)\n",
        "  volume = 2**n * (num_within / N)\n",
        "  return volume\n",
        "\n",
        "print(openBallVolume(4, 10000000))"
      ]
    },
    {
      "cell_type": "code",
      "execution_count": 2,
      "metadata": {
        "colab": {
          "base_uri": "https://localhost:8080/"
        },
        "id": "CAqmyWG5B7rV",
        "outputId": "397f50c9-9555-4533-f158-b1e5654d96f4"
      },
      "outputs": [
        {
          "output_type": "stream",
          "name": "stdout",
          "text": [
            "24.007340689526\n",
            "-0.0014063719009011154\n",
            "2.3027261188956465\n"
          ]
        }
      ],
      "source": [
        "def montecarlo_1D(f, a, b, N = 10**4):\n",
        "  points = np.random.uniform(a,b,(1,N))\n",
        "  approx = ((b-a)/N) * np.sum(f(points))\n",
        "  return approx\n",
        "\n",
        "\n",
        "print(montecarlo_1D(lambda x: x**2, -4, 2, 10000000))\n",
        "print(montecarlo_1D(lambda x: np.sin(x), -2*np.pi, 2*np.pi, 10000000))\n",
        "print(montecarlo_1D(lambda x: 1/x, 1, 10, 10000000))"
      ]
    },
    {
      "cell_type": "code",
      "execution_count": 8,
      "metadata": {
        "colab": {
          "base_uri": "https://localhost:8080/"
        },
        "id": "xByUE9j7B7rW",
        "outputId": "06c5818b-8bc3-4eba-95bf-8d41de8c7787"
      },
      "outputs": [
        {
          "output_type": "stream",
          "name": "stdout",
          "text": [
            "0.6668385635173868\n",
            "53.990345873161246\n",
            "0.37962772097269826\n"
          ]
        }
      ],
      "source": [
        "def montecarlo_nD(f, a, b, N = 10**4):\n",
        "  n = len(a)\n",
        "  points = np.random.uniform(0,1,(n,N))\n",
        "  volume = []\n",
        "  for i in range(n):\n",
        "    B = b[i]\n",
        "    A = a[i]\n",
        "    volume += [B-A]\n",
        "    for j in range(N):\n",
        "      points[i][j] = (B-A)*points[i][j] + A\n",
        "  approx = (np.prod(volume)/N) * np.sum(f(points))\n",
        "  return approx\n",
        "\n",
        "\n",
        "print(montecarlo_nD(lambda x: x[0]**2 + x[1]**2, [0,0], [1,1], 10000000))\n",
        "print(montecarlo_nD(lambda x: 3*x[0] - 4*x[1] + x[1]**2, [1,-2], [3,1], 10000000))\n",
        "print(montecarlo_nD(lambda x: x[0] + x[1] - x[3]*x[2], [-1,-2,-3,-4], [1,2,3,4], 10000000))"
      ]
    },
    {
      "cell_type": "markdown",
      "metadata": {
        "id": "b99XyRCmB7rW"
      },
      "source": [
        "The last integral is kind of bad; usually we're within $\\frac{1}{2}$ of the right answer, but not within $\\frac{1}{10}$."
      ]
    }
  ],
  "metadata": {
    "kernelspec": {
      "display_name": "Python 3",
      "language": "python",
      "name": "python3"
    },
    "language_info": {
      "codemirror_mode": {
        "name": "ipython",
        "version": 3
      },
      "file_extension": ".py",
      "mimetype": "text/x-python",
      "name": "python",
      "nbconvert_exporter": "python",
      "pygments_lexer": "ipython3",
      "version": "3.8.3"
    },
    "colab": {
      "name": "MonteCarlo-Colab.ipynb",
      "provenance": []
    }
  },
  "nbformat": 4,
  "nbformat_minor": 0
}