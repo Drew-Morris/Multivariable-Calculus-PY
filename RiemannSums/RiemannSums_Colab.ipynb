{
  "nbformat": 4,
  "nbformat_minor": 0,
  "metadata": {
    "colab": {
      "name": "RiemannSums-Colab.ipynb",
      "provenance": []
    },
    "kernelspec": {
      "name": "python3",
      "display_name": "Python 3"
    },
    "language_info": {
      "name": "python"
    }
  },
  "cells": [
    {
      "cell_type": "code",
      "execution_count": 15,
      "metadata": {
        "id": "wC14Bmf1Sa0f"
      },
      "outputs": [],
      "source": [
        "import numpy as np\n",
        "import sympy as sp\n",
        "import math\n",
        "from matplotlib import pyplot as plt"
      ]
    },
    {
      "cell_type": "code",
      "source": [
        "def riemann_sum_2D(f, xMin, xMax, yMin, yMax, N, method):\n",
        "  delx = (xMax - xMin) / N #change in x\n",
        "  dely = (yMax - yMin) / N #change in y\n",
        "  sum = 0\n",
        "  if method == \"left\":\n",
        "    xstart = 0\n",
        "    xstop = 2*N\n",
        "    ystart = 0\n",
        "    ystop = 2*N\n",
        "  elif method == \"right\":\n",
        "    xstart = 2\n",
        "    xstop = 2*(N+1)\n",
        "    ystart = 2\n",
        "    ystop  = 2*(N+1)\n",
        "  elif method == \"mid\":\n",
        "    xstart = 1\n",
        "    xstop = 2*N + 1\n",
        "    ystart = 1\n",
        "    ystop = 2*N + 1\n",
        "  else:\n",
        "    raise ValueError(\"Method must equal left, right, or mid\")\n",
        "  for j in range(ystart, ystop, 2):\n",
        "    for i in range(xstart, xstop, 2):\n",
        "      sum += f(xMin + (delx*i*0.5), yMin + (dely*j*0.5)) \n",
        "  return delx*dely*sum"
      ],
      "metadata": {
        "id": "CEWJSuWXOu7k"
      },
      "execution_count": 32,
      "outputs": []
    },
    {
      "cell_type": "code",
      "source": [
        "f2A = lambda x,y : x * math.sin(x*y) \n",
        "print(riemann_sum_2D(f2A, 0, math.pi, 0, math.pi, 10, \"mid\"))\n",
        "print(riemann_sum_2D(f2A, 0, math.pi, 0, math.pi, 20, \"mid\"))"
      ],
      "metadata": {
        "colab": {
          "base_uri": "https://localhost:8080/"
        },
        "id": "7nUx1wFpPKhs",
        "outputId": "03fb9b34-1a40-4902-acd6-41195dc237ef"
      },
      "execution_count": 35,
      "outputs": [
        {
          "output_type": "stream",
          "name": "stdout",
          "text": [
            "3.335619689249048\n",
            "3.2926027753992155\n"
          ]
        }
      ]
    },
    {
      "cell_type": "code",
      "source": [
        "f2B = lambda x,y : y**2 * math.e**(-x-y)\n",
        "print(riemann_sum_2D(f2B, 0, 1, 0, 1, 10, \"mid\"))\n",
        "print(riemann_sum_2D(f2B, 0, 1, 0, 1, 20, \"mid\"))"
      ],
      "metadata": {
        "colab": {
          "base_uri": "https://localhost:8080/"
        },
        "id": "XDmtQOTYPKi-",
        "outputId": "d8283462-030e-45ba-af23-65450f53baf0"
      },
      "execution_count": 36,
      "outputs": [
        {
          "output_type": "stream",
          "name": "stdout",
          "text": [
            "0.10138161929961592\n",
            "0.10148555992657306\n"
          ]
        }
      ]
    },
    {
      "cell_type": "code",
      "source": [
        "f2C = lambda x,y : x**3 * y**2 + x*y\n",
        "print(riemann_sum_2D(f2C, 0, 1, 1, 2, 10, \"mid\"))\n",
        "print(riemann_sum_2D(f2C, 0, 1, 1, 2, 20, \"mid\"))"
      ],
      "metadata": {
        "colab": {
          "base_uri": "https://localhost:8080/"
        },
        "id": "Opmgywk4SLwW",
        "outputId": "a5826e48-50da-4e7a-e3b8-2a2ac3c55636"
      },
      "execution_count": 37,
      "outputs": [
        {
          "output_type": "stream",
          "name": "stdout",
          "text": [
            "1.3302093750000006\n",
            "1.3325521484375\n"
          ]
        }
      ]
    },
    {
      "cell_type": "code",
      "source": [
        "f3 = lambda x,y : x * math.sin(x+y)\n",
        "fdf = lambda x,y : x*math.sin(x) - x*math.sin(x+y) - math.cos(x+y) + math.cos(x) + math.cos(y) - 1\n",
        "AreaEval = fdf(math.pi/6, math.pi/3)\n",
        "Nrange = np.linspace(1, 100, 100) #input N range\n",
        "ErrorCalc = lambda x : AreaEval - x\n",
        "Arange = [] #approximation range\n",
        "for i in range(len(Nrange)):\n",
        "  Arange += [riemann_sum_2D(f3, 0, math.pi/6, 0, math.pi/3, int(Nrange[i]), \"mid\")]\n",
        "Erange = []\n",
        "for i in range(len(Nrange)): \n",
        "  Erange += [ErrorCalc(Arange[i])] #error range\n",
        "CvalRange = np.full((100,),AreaEval) #correct value range\n",
        "plt.plot(Nrange, CvalRange, label=\"Actual Value\")\n",
        "plt.plot(Nrange, Arange, label=\"Approximation of N sections\")\n",
        "plt.plot(Nrange, Erange, label=\"Approximation Error\")\n",
        "plt.legend()\n",
        "plt.show()"
      ],
      "metadata": {
        "colab": {
          "base_uri": "https://localhost:8080/",
          "height": 265
        },
        "id": "ptfkD3lcSZkl",
        "outputId": "2ee749d4-86cb-4891-ead1-9a93c7fea745"
      },
      "execution_count": 38,
      "outputs": [
        {
          "output_type": "display_data",
          "data": {
            "image/png": "[encoded data removed]",
            "text/plain": [
              "<Figure size 432x288 with 1 Axes>"
            ]
          },
          "metadata": {
            "needs_background": "light"
          }
        }
      ]
    },
    {
      "cell_type": "code",
      "source": [
        "def riemann_sum_3D(f, xMin, xMax, yMin, yMax, zMin, zMax, N, method):\n",
        "  delx = (xMin + xMax) / N #change in x\n",
        "  dely = (yMin + yMax) / N #change in y\n",
        "  delz = (zMin + zMax) / N #change in z\n",
        "  sum = 0\n",
        "  if method == \"left\":\n",
        "    start = 0\n",
        "    stop = 2*N\n",
        "  elif method == \"right\":\n",
        "    start = 2\n",
        "    stop = 2*(N+1)\n",
        "  elif method == \"mid\":\n",
        "    start = 1\n",
        "    stop = 2*N + 1\n",
        "  else:\n",
        "    raise ValueError(\"Method must equal left, right, or mid\")\n",
        "  for k in range(start, stop, 2):\n",
        "    for j in range(start, stop, 2):\n",
        "      for i in range(start, stop, 2):\n",
        "        sum += f(xMin + (0.5*delx*i), yMin + (0.5*dely*j), zMin + (0.5*delz*k))\n",
        "  return delx*dely*delz*sum"
      ],
      "metadata": {
        "id": "R_fgrtPpYFGo"
      },
      "execution_count": 41,
      "outputs": []
    },
    {
      "cell_type": "code",
      "source": [
        "f5 = lambda x,y,z : x*y + z**2\n",
        "print(riemann_sum_3D(f5, 0, 2, 0, 1, 0, 3, 10, \"mid\"))\n",
        "print(riemann_sum_3D(f5, 0, 2, 0, 1, 0, 3, 20, \"mid\"))"
      ],
      "metadata": {
        "colab": {
          "base_uri": "https://localhost:8080/"
        },
        "id": "dSsb3TXhavZi",
        "outputId": "1ae801e2-28d5-47f6-c593-53c8bff7f409"
      },
      "execution_count": 44,
      "outputs": [
        {
          "output_type": "stream",
          "name": "stdout",
          "text": [
            "20.95500000000001\n",
            "20.988750000000046\n"
          ]
        }
      ]
    }
  ]
}