{
  "nbformat": 4,
  "nbformat_minor": 0,
  "metadata": {
    "colab": {
      "name": "GeometryInHigherDimensions-Colab.ipynb",
      "provenance": []
    },
    "kernelspec": {
      "name": "python3",
      "display_name": "Python 3"
    },
    "language_info": {
      "name": "python"
    }
  },
  "cells": [
    {
      "cell_type": "code",
      "source": [
        "import numpy as np\n",
        "from scipy import linalg as la\n",
        "from matplotlib import pyplot as plt\n",
        "import random\n",
        "import math"
      ],
      "metadata": {
        "id": "kvsncaSX89o1"
      },
      "execution_count": 2,
      "outputs": []
    },
    {
      "cell_type": "code",
      "execution_count": 3,
      "metadata": {
        "colab": {
          "base_uri": "https://localhost:8080/",
          "height": 605
        },
        "id": "tEWS533g6Gwk",
        "outputId": "1a5fcf85-945f-4d13-b2e6-fab0808ea96f"
      },
      "outputs": [
        {
          "output_type": "stream",
          "name": "stdout",
          "text": [
            "(1.0, 1.0)\n",
            "(2.0, 2.0)\n",
            "(3.0, 3.1409800000000008)\n",
            "(4.0, 4.195919999999999)\n",
            "(5.0, 4.92368)\n",
            "(6.0, 5.26192)\n",
            "(7.0, 5.18848)\n",
            "(8.0, 4.76288)\n",
            "(9.0, 4.032)\n",
            "(10.0, 3.13344)\n",
            "(11.0, 2.5446400000000002)\n",
            "(12.0, 1.8841599999999996)\n",
            "(13.0, 1.49504)\n",
            "(14.0, 0.8601600000000001)\n",
            "(15.0, 0.7372800000000002)\n",
            "(16.0, 0.0)\n",
            "(17.0, 0.0)\n",
            "(18.0, 0.0)\n",
            "(19.0, 0.0)\n",
            "(20.0, 0.0)\n"
          ]
        },
        {
          "output_type": "display_data",
          "data": {
            "image/png": "[encoded data removed]",
            "text/plain": [
              "<Figure size 432x288 with 1 Axes>"
            ]
          },
          "metadata": {
            "needs_background": "light"
          }
        }
      ],
      "source": [
        "def openBallVolume(n, N = 10**4):\n",
        "  points = np.random.uniform(-1,1,(n,N))\n",
        "  lengths = la.norm(points, axis=0)\n",
        "  num_within = np.count_nonzero(lengths < 1)\n",
        "  volume = 2**n * (num_within / N)\n",
        "  return volume\n",
        "\n",
        "z = []\n",
        "y = []\n",
        "x = np.linspace(1,20,20)\n",
        "sum = 0\n",
        "for i in range(20):\n",
        "  for j in range(len(x)):\n",
        "    y += [openBallVolume(i)]\n",
        "  z += [y]\n",
        "  y = []\n",
        "for i in range(20):\n",
        "  for j in range(20):\n",
        "    sum += z[i][j]\n",
        "  z[i] = sum/20\n",
        "  sum = 0\n",
        "for i in range(20):\n",
        "  print((x[i],z[i]))\n",
        "plt.plot(x,z)\n",
        "plt.show()"
      ]
    },
    {
      "cell_type": "code",
      "source": [
        "#The Volume of the unit sphere as n approaches infinity is 0 \n",
        "#The Volume of the unit sphere is the highest at n=6"
      ],
      "metadata": {
        "id": "SupJ2Q4GBqFu"
      },
      "execution_count": 4,
      "outputs": []
    },
    {
      "cell_type": "code",
      "source": [
        "x = np.linspace(1,30,30)\n",
        "y = 2**(-1/x)\n",
        "plt.plot(x,y)\n",
        "plt.show()"
      ],
      "metadata": {
        "colab": {
          "base_uri": "https://localhost:8080/",
          "height": 269
        },
        "id": "gF4yIquHBtP5",
        "outputId": "2fde730b-5ff3-44ce-e873-0e5ade4c09cf"
      },
      "execution_count": 5,
      "outputs": [
        {
          "output_type": "display_data",
          "data": {
            "image/png": "[encoded data removed]",
            "text/plain": [
              "<Figure size 432x288 with 1 Axes>"
            ]
          },
          "metadata": {
            "needs_background": "light"
          }
        }
      ]
    },
    {
      "cell_type": "code",
      "source": [
        "#A function to generate n points on a d-dimensional unit sphere\n",
        "def generate(n, d):\n",
        "  list_of_points = []\n",
        "  point = []\n",
        "  for i in range(n):\n",
        "    point = []\n",
        "    for j in range(d):\n",
        "      point.append(random.uniform(-1,1))\n",
        "    norm = np.sqrt(np.sum([s**2 for s in point]))\n",
        "    norm_point = point/norm\n",
        "    list_of_points.append(tuple(norm_point))\n",
        "  return list_of_points"
      ],
      "metadata": {
        "id": "cyR4gPYdRkoJ"
      },
      "execution_count": 6,
      "outputs": []
    },
    {
      "cell_type": "code",
      "source": [
        "test_Points = generate(500,50)\n",
        "pole_Points = generate(5,50)\n",
        "band_Points = []\n",
        "all_Points = 0\n",
        "for i in range(len(pole_Points)):\n",
        "  band_Points += [0]\n",
        "  for j in range(len(test_Points)):\n",
        "    if -50**-0.5 <= np.dot(pole_Points[i],test_Points[j]) <= 50**-0.5:\n",
        "      band_Points[i] += 1\n",
        "for i in range(len(test_Points)):\n",
        "  for j in range(len(pole_Points)):\n",
        "    if 50**-0.5 < np.dot(pole_Points[j],test_Points[i]) or np.dot(pole_Points[j],test_Points[i]) < -50**-0.5:\n",
        "      break\n",
        "    elif j == len(pole_Points) - 1:\n",
        "      all_Points += 1\n",
        "print(band_Points)\n",
        "#This is how many points are within the band of each equator relative to the point\n",
        "print(all_Points)\n",
        "#This is how many points are within all of the bands"
      ],
      "metadata": {
        "colab": {
          "base_uri": "https://localhost:8080/"
        },
        "id": "zL49ncbIDlUP",
        "outputId": "2c9b3b38-eabf-4a75-bc9f-2430970de90f"
      },
      "execution_count": 7,
      "outputs": [
        {
          "output_type": "stream",
          "name": "stdout",
          "text": [
            "[314, 337, 359, 358, 346]\n",
            "76\n"
          ]
        }
      ]
    },
    {
      "cell_type": "code",
      "source": [
        "def Gauss_generate(n, d):\n",
        "  list_of_points = []\n",
        "  point = []\n",
        "  for i in range(n):\n",
        "    point = []\n",
        "    for j in range(d):\n",
        "      point.append(random.uniform(-1,1))\n",
        "    list_of_points.append(tuple(point))\n",
        "  return list_of_points"
      ],
      "metadata": {
        "id": "YQ1xRJFWWbeb"
      },
      "execution_count": 8,
      "outputs": []
    },
    {
      "cell_type": "code",
      "source": [
        "child_Points = Gauss_generate(200,50)\n",
        "parent_Point = Gauss_generate(1,50)[0]\n",
        "angles_List = []\n",
        "parent_Norm = (np.dot(parent_Point,parent_Point))**0.5\n",
        "for i in range(len(child_Points)):\n",
        "  angles_List += [(180/np.pi)*math.acos(np.dot(parent_Point,child_Points[i])/(parent_Norm*np.dot(child_Points[i], child_Points[i])**0.5))]\n",
        "ortho_Count = 0\n",
        "for i in range(len(angles_List)):\n",
        "  if 87 <= angles_List[i] <= 93:\n",
        "    ortho_Count += 1\n",
        "print(ortho_Count)\n",
        "edges = np.linspace(0, 180, 181)\n",
        "plt.hist(angles_List, edges)\n",
        "plt.show()"
      ],
      "metadata": {
        "colab": {
          "base_uri": "https://localhost:8080/",
          "height": 282
        },
        "id": "cCbJUs14XFyN",
        "outputId": "1c94c894-0802-4d40-8e31-95db0608c944"
      },
      "execution_count": 13,
      "outputs": [
        {
          "output_type": "stream",
          "name": "stdout",
          "text": [
            "64\n"
          ]
        },
        {
          "output_type": "display_data",
          "data": {
            "image/png": "[encoded data removed]",
            "text/plain": [
              "<Figure size 432x288 with 1 Axes>"
            ]
          },
          "metadata": {
            "needs_background": "light"
          }
        }
      ]
    }
  ]
}