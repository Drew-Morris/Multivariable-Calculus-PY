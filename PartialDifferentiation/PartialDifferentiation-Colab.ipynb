{
  "nbformat": 4,
  "nbformat_minor": 0,
  "metadata": {
    "colab": {
      "name": "PartialDifferentiation-Colab.ipynb",
      "provenance": []
    },
    "kernelspec": {
      "name": "python3",
      "display_name": "Python 3"
    },
    "language_info": {
      "name": "python"
    }
  },
  "cells": [
    {
      "cell_type": "code",
      "execution_count": 7,
      "metadata": {
        "id": "YkJhp1odndx6"
      },
      "outputs": [],
      "source": [
        "import sympy as sp\n",
        "import numpy as np\n",
        "from matplotlib import pyplot as plt"
      ]
    },
    {
      "cell_type": "code",
      "source": [
        "x0 = sp.symbols('x0')\n",
        "#defining a single variable\n",
        "x2, x3 = sp.symbols('x2, x3') #separated by commas\n",
        "#defining multiple symbolic variables\n",
        "m, a = sp.symbols('mass acceleration') #separated by spaces\n",
        "x, y, z = sp.symbols('x:z') #separated by colons\n",
        "x4, x5, x6 = sp.symbols('x4:7')\n",
        "\n",
        "expr = x**2+x*y+3*x*y+4*y**3\n",
        "force = m * a\n",
        "print(expr, force, sep='\\n')\n",
        "#combine symbolic variable into expressions"
      ],
      "metadata": {
        "colab": {
          "base_uri": "https://localhost:8080/"
        },
        "id": "luId62W5mKQU",
        "outputId": "254c1f7b-dd2c-455a-8860-5e3d3e178cb2"
      },
      "execution_count": 9,
      "outputs": [
        {
          "output_type": "stream",
          "name": "stdout",
          "text": [
            "x**2 + 4*x*y + 4*y**3\n",
            "acceleration*mass\n"
          ]
        }
      ]
    },
    {
      "cell_type": "code",
      "source": [
        "x, y = sp.symbols('x, y')\n",
        "int1, int2, int3, int5, int7 = sp.symbols('1, 2, 3, 5, 7')\n",
        "(int2/int5)*sp.E**(x**int2 - y)*sp.cosh(x + y) + (int3/int7)*sp.log(x*y + int1)"
      ],
      "metadata": {
        "colab": {
          "base_uri": "https://localhost:8080/",
          "height": 58
        },
        "id": "KAkDCbOmmOHK",
        "outputId": "3208ffcc-ab60-406a-fcae-04d3cfefa964"
      },
      "execution_count": 10,
      "outputs": [
        {
          "output_type": "execute_result",
          "data": {
            "text/latex": "$\\displaystyle \\frac{2 e^{x^{2} - y} \\cosh{\\left(x + y \\right)}}{5} + \\frac{3 \\log{\\left(1 + x y \\right)}}{7}$",
            "text/plain": [
              "2*exp(x**2 - y)*cosh(x + y)/5 + 3*log(1 + x*y)/7"
            ]
          },
          "metadata": {},
          "execution_count": 10
        }
      ]
    },
    {
      "cell_type": "code",
      "source": [
        "x, y = sp.symbols('x, y')\n",
        "expr = sp.expand((x + y)**3)\n",
        "print(expr)\n",
        "#expands the expression"
      ],
      "metadata": {
        "colab": {
          "base_uri": "https://localhost:8080/"
        },
        "id": "X0RxKgednGUi",
        "outputId": "03b2625f-7d12-4060-dbdd-a84a746d451d"
      },
      "execution_count": 11,
      "outputs": [
        {
          "output_type": "stream",
          "name": "stdout",
          "text": [
            "x**3 + 3*x**2*y + 3*x*y**2 + y**3\n"
          ]
        }
      ]
    },
    {
      "cell_type": "code",
      "source": [
        "expr.subs(y, 2*x)\n",
        "#substitute symbolic variables"
      ],
      "metadata": {
        "colab": {
          "base_uri": "https://localhost:8080/",
          "height": 38
        },
        "id": "vDtkvsqRnHv1",
        "outputId": "5fe49f90-bb2c-4eaf-eefc-a1187d6110ac"
      },
      "execution_count": 12,
      "outputs": [
        {
          "output_type": "execute_result",
          "data": {
            "text/latex": "$\\displaystyle 27 x^{3}$",
            "text/plain": [
              "27*x**3"
            ]
          },
          "metadata": {},
          "execution_count": 12
        }
      ]
    },
    {
      "cell_type": "code",
      "source": [
        "new_expr = expr.subs({x:sp.pi, y:1})\n",
        "print(new_expr)\n",
        "#substitutes x with pi and y with 1\n",
        "new_expr.evalf()\n",
        "#evaluates new expression"
      ],
      "metadata": {
        "colab": {
          "base_uri": "https://localhost:8080/",
          "height": 54
        },
        "id": "41Nq2_N3nL8o",
        "outputId": "23b25fba-1744-4cb3-f48f-586277c73cbf"
      },
      "execution_count": 13,
      "outputs": [
        {
          "output_type": "stream",
          "name": "stdout",
          "text": [
            "1 + 3*pi + 3*pi**2 + pi**3\n"
          ]
        },
        {
          "output_type": "execute_result",
          "data": {
            "text/latex": "$\\displaystyle 71.0398678443373$",
            "text/plain": [
              "71.0398678443373"
            ]
          },
          "metadata": {},
          "execution_count": 13
        }
      ]
    },
    {
      "cell_type": "code",
      "source": [
        "expr.evalf(subs={x:1, y:2})\n",
        "#evaluates expression wtih given values"
      ],
      "metadata": {
        "colab": {
          "base_uri": "https://localhost:8080/",
          "height": 37
        },
        "id": "coUxBSuOnhSp",
        "outputId": "270a761e-e016-40ca-b84e-76657d039dc2"
      },
      "execution_count": 14,
      "outputs": [
        {
          "output_type": "execute_result",
          "data": {
            "text/latex": "$\\displaystyle 27.0$",
            "text/plain": [
              "27.0000000000000"
            ]
          },
          "metadata": {},
          "execution_count": 14
        }
      ]
    },
    {
      "cell_type": "code",
      "source": [
        "f = sp.lambdify(x, sp.sin(x)**2)\n",
        "print(f(0), f(np.pi/2), f(np.pi), sep='  ')\n",
        "#converts the expression sin(x)^2 into a callable function, f, with input, x"
      ],
      "metadata": {
        "colab": {
          "base_uri": "https://localhost:8080/"
        },
        "id": "5MiFfVLfni-3",
        "outputId": "af78d4a2-dac2-476a-b74c-98256638c875"
      },
      "execution_count": 17,
      "outputs": [
        {
          "output_type": "stream",
          "name": "stdout",
          "text": [
            "0.0  1.0  1.4997597826618576e-32\n"
          ]
        }
      ]
    },
    {
      "cell_type": "code",
      "source": [
        "f = sp.lambdify((x, y), sp.sin(x)**2 + sp.cos(y)**2)\n",
        "print(f(0,1), f(1,0), f(np.pi, np.pi), sep='  ')\n",
        "#converts an expression of two variables into function, f, with inputs, x and y"
      ],
      "metadata": {
        "colab": {
          "base_uri": "https://localhost:8080/"
        },
        "id": "Z4Tw99mIpgTi",
        "outputId": "16d2b92c-0538-46b9-d9c5-b1abd68eb346"
      },
      "execution_count": 18,
      "outputs": [
        {
          "output_type": "stream",
          "name": "stdout",
          "text": [
            "0.2919265817264289  1.708073418273571  1.0\n"
          ]
        }
      ]
    },
    {
      "cell_type": "code",
      "source": [
        "def MaclaurinExp(N):\n",
        "  x, y, n = sp.symbols('x, y, n')\n",
        "  oldMacExpr = sp.Sum(x**n/sp.factorial(n), (n, 0, N))\n",
        "  print(oldMacExpr)\n",
        "  oldMac = sp.lambdify(x, oldMacExpr)\n",
        "  newMacExpr = oldMacExpr.subs({x:-y**2})\n",
        "  print(newMacExpr)\n",
        "  newMac = sp.lambdify(y, newMacExpr)\n",
        "  domain = np.linspace(-2,2,101)\n",
        "  rangex = oldMac(domain)\n",
        "  rangey = newMac(domain)\n",
        "  plt.plot(domain,rangex)\n",
        "  plt.plot(domain, rangey)\n",
        "  plt.show()\n"
      ],
      "metadata": {
        "id": "rkDX3dp6rl2F"
      },
      "execution_count": 5,
      "outputs": []
    },
    {
      "cell_type": "code",
      "source": [
        "MaclaurinExp(100)"
      ],
      "metadata": {
        "colab": {
          "base_uri": "https://localhost:8080/",
          "height": 299
        },
        "id": "sQttQAH2WFbk",
        "outputId": "89f24033-e275-4aee-bc6f-b55b6e0caf5f"
      },
      "execution_count": 15,
      "outputs": [
        {
          "output_type": "stream",
          "name": "stdout",
          "text": [
            "Sum(x**n/factorial(n), (n, 0, 100))\n",
            "Sum((-y**2)**n/factorial(n), (n, 0, 100))\n"
          ]
        },
        {
          "output_type": "display_data",
          "data": {
            "image/png": "[encoded data removed]",
            "text/plain": [
              "<Figure size 432x288 with 1 Axes>"
            ]
          },
          "metadata": {
            "needs_background": "light"
          }
        }
      ]
    },
    {
      "cell_type": "code",
      "source": [
        "x, y = sp.symbols('x, y')\n",
        "f = sp.sin(y)*sp.cos(x)**2\n",
        "\n",
        "df = sp.Derivative(f, x)\n",
        "print(df)\n",
        "#make an expression for the derivative of f with respect to x\n",
        "\n",
        "print(df.doit())\n",
        "#perform the differentiation\n",
        "\n",
        "print(sp.diff(f, x))\n",
        "#calculate the derivative of f with respect to x in one step\n",
        "\n",
        "print(sp.diff(f, x, y, x))\n",
        "#calculate the derivative of f with respect to x, then y, then x"
      ],
      "metadata": {
        "colab": {
          "base_uri": "https://localhost:8080/"
        },
        "id": "IJeyMy-BaPLM",
        "outputId": "f6491038-a0f4-4055-8066-b46619aa069e"
      },
      "execution_count": 19,
      "outputs": [
        {
          "output_type": "stream",
          "name": "stdout",
          "text": [
            "Derivative(sin(y)*cos(x)**2, x)\n",
            "-2*sin(x)*sin(y)*cos(x)\n",
            "-2*sin(x)*sin(y)*cos(x)\n",
            "2*(sin(x)**2 - cos(x)**2)*cos(y)\n"
          ]
        }
      ]
    },
    {
      "cell_type": "code",
      "source": [
        "x = sp.symbols('x')\n",
        "P = 2*x**6 - 51*x**4 + 48*x**3 + 312*x**2 - 576*x - 100\n",
        "p = sp.lambdify(x, P)\n",
        "dP = sp.diff(P, x)\n",
        "dp = sp.lambdify(x, dP)\n",
        "d2P = sp.diff(dP, x)\n",
        "d2p = sp.lambdify(x, d2P)\n",
        "\n",
        "critPoints = []\n",
        "for n in range(len(domain)):\n",
        "  if dp(domain[n]) == 0.0:\n",
        "    critPoints += [domain[n]]\n",
        "critPoints = np.array(critPoints)\n",
        "critEval = p(critPoints)\n",
        "\n",
        "domain = np.linspace(-5,5,101)\n",
        "rangeP = p(domain)\n",
        "rangeDP = dp(domain)\n",
        "rangeD2P = d2p(domain)\n",
        "plt.plot(domain, rangeP, 'y')\n",
        "plt.plot(domain, rangeDP, 'c')\n",
        "plt.plot(domain, rangeD2P, 'm')\n",
        "plt.plot(critPoints, critEval, 'or')\n",
        "plt.show()"
      ],
      "metadata": {
        "colab": {
          "base_uri": "https://localhost:8080/",
          "height": 265
        },
        "id": "8JnqpnnGfFEv",
        "outputId": "9f9ccd08-4076-4382-9dd9-599794c3f58b"
      },
      "execution_count": 58,
      "outputs": [
        {
          "output_type": "display_data",
          "data": {
            "image/png": "[encoded data removed]",
            "text/plain": [
              "<Figure size 432x288 with 1 Axes>"
            ]
          },
          "metadata": {
            "needs_background": "light"
          }
        }
      ]
    },
    {
      "cell_type": "code",
      "source": [
        "x, y = sp.symbols('x, y')\n",
        "F = (x**2 - y**2) / (x**2 + y**2)\n",
        "dFx = sp.diff(F, x)\n",
        "dFy = sp.diff(F, y)\n",
        "print(dFx)\n",
        "print(dFy)"
      ],
      "metadata": {
        "colab": {
          "base_uri": "https://localhost:8080/"
        },
        "id": "yQ-wkGu24ZvM",
        "outputId": "50bd6648-982a-4334-b916-765c28ad98c5"
      },
      "execution_count": 62,
      "outputs": [
        {
          "output_type": "stream",
          "name": "stdout",
          "text": [
            "-2*x*(x**2 - y**2)/(x**2 + y**2)**2 + 2*x/(x**2 + y**2)\n",
            "-2*y*(x**2 - y**2)/(x**2 + y**2)**2 - 2*y/(x**2 + y**2)\n"
          ]
        }
      ]
    },
    {
      "cell_type": "code",
      "source": [
        "x, y = sp.symbols('x, y')\n",
        "G = (x*y**2 - x**3)\n",
        "dGx = sp.diff(G, x)\n",
        "dGy = sp.diff(G, y)\n",
        "print(dGx)\n",
        "print(dGy)"
      ],
      "metadata": {
        "colab": {
          "base_uri": "https://localhost:8080/"
        },
        "id": "NrnktIA04e_Y",
        "outputId": "043336eb-e73e-4f9e-890e-6c73cf2d5581"
      },
      "execution_count": 63,
      "outputs": [
        {
          "output_type": "stream",
          "name": "stdout",
          "text": [
            "-3*x**2 + y**2\n",
            "2*x*y\n"
          ]
        }
      ]
    },
    {
      "cell_type": "code",
      "source": [
        "x, y = sp.symbols('x, y')\n",
        "H = (2*x**2 + 3*x*y + 4*y**2) / (3*x**2 + 5*y**2)\n",
        "dHx = sp.diff(H, x)\n",
        "dHy = sp.diff(H, y)\n",
        "print(dHx)\n",
        "print(dHy)"
      ],
      "metadata": {
        "colab": {
          "base_uri": "https://localhost:8080/"
        },
        "id": "VxtmJso44jQx",
        "outputId": "2d90d3f4-3ea2-4eb2-f9b2-8fedd0481fd2"
      },
      "execution_count": 64,
      "outputs": [
        {
          "output_type": "stream",
          "name": "stdout",
          "text": [
            "-6*x*(2*x**2 + 3*x*y + 4*y**2)/(3*x**2 + 5*y**2)**2 + (4*x + 3*y)/(3*x**2 + 5*y**2)\n",
            "-10*y*(2*x**2 + 3*x*y + 4*y**2)/(3*x**2 + 5*y**2)**2 + (3*x + 8*y)/(3*x**2 + 5*y**2)\n"
          ]
        }
      ]
    }
  ]
}