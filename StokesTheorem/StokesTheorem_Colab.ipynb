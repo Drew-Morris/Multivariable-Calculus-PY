{
  "nbformat": 4,
  "nbformat_minor": 0,
  "metadata": {
    "colab": {
      "name": "StokesTheorem-Colab.ipynb",
      "provenance": []
    },
    "kernelspec": {
      "name": "python3",
      "display_name": "Python 3"
    },
    "language_info": {
      "name": "python"
    }
  },
  "cells": [
    {
      "cell_type": "code",
      "source": [
        "import math\n",
        "import numpy as np\n",
        "import sympy as sp"
      ],
      "metadata": {
        "id": "14JSkRkRCzZl"
      },
      "execution_count": 2,
      "outputs": []
    },
    {
      "cell_type": "markdown",
      "source": [
        ""
      ],
      "metadata": {
        "id": "Eco-a8LQC0SC"
      }
    },
    {
      "cell_type": "code",
      "execution_count": 17,
      "metadata": {
        "id": "6pi0kDAsBYkv"
      },
      "outputs": [],
      "source": [
        "def PolygonArea(points):\n",
        "  assert np.shape(points)[1] == 2, \"points must be two-dimensional\"\n",
        "  L = len(points)\n",
        "  Area = 0\n",
        "  for i in range(1,L+1):\n",
        "    Area += (points[i%L][0]*points[(i+1)%L][1] - points[(i+1)%L][0]*points[i%L][1])\n",
        "  return 0.5*Area"
      ]
    },
    {
      "cell_type": "code",
      "source": [
        "apoints = [(0, 0), (2, 1), (1, 3), (0, 2), (-1, 1)]\n",
        "PolygonArea(apoints)\n",
        "bpoints = [(3,0), (5,3), (1,7), (-1,4), (-5,7), (-5,-2), (-2,-6), (5,-6), (2,-3), (5, -2)]\n",
        "PolygonArea(bpoints)"
      ],
      "metadata": {
        "colab": {
          "base_uri": "https://localhost:8080/"
        },
        "id": "qgz8JTsdCxQe",
        "outputId": "5687aa16-8b0a-4a94-fdf3-c81cac7984b4"
      },
      "execution_count": 21,
      "outputs": [
        {
          "output_type": "execute_result",
          "data": {
            "text/plain": [
              "96.0"
            ]
          },
          "metadata": {},
          "execution_count": 21
        }
      ]
    },
    {
      "cell_type": "code",
      "source": [
        "def PlaneFinder(points):\n",
        "  assert np.shape(points) == (3,3), \"input must be 3 points in R3\"\n",
        "  p1 = np.array(points[0])\n",
        "  p2 = np.array(points[1])\n",
        "  p3 = np.array(points[2])\n",
        "  v1 = p2 - p1\n",
        "  v2 = p3 - p1\n",
        "  n = np.cross(v1,v2)\n",
        "  coef_list = np.ndarray.tolist(n)\n",
        "  d = np.dot(n,p1)\n",
        "  coef_list += [d]\n",
        "  return coef_list"
      ],
      "metadata": {
        "id": "ZgvxSMAcEVTR"
      },
      "execution_count": 39,
      "outputs": []
    },
    {
      "cell_type": "code",
      "source": [
        "A = [(3,0,-1),(-2,-2,3),(7,1,-4)]\n",
        "PlaneFinder(A)"
      ],
      "metadata": {
        "colab": {
          "base_uri": "https://localhost:8080/"
        },
        "id": "DC9ou6HbGd4t",
        "outputId": "6ce6733b-0aab-4661-c09a-cfce6eb07684"
      },
      "execution_count": 40,
      "outputs": [
        {
          "output_type": "execute_result",
          "data": {
            "text/plain": [
              "[2, 1, 3, 3]"
            ]
          },
          "metadata": {},
          "execution_count": 40
        }
      ]
    },
    {
      "cell_type": "code",
      "source": [
        "def FaceArea(points):\n",
        "  L = len(points)\n",
        "  if np.shape(points)[1] == 2:\n",
        "    for i in range(L):\n",
        "      points[i] += [0]\n",
        "  planepoints = []\n",
        "  for i in range(3):\n",
        "    planepoints += [points[i]]\n",
        "  coef_list = PlaneFinder(planepoints)\n",
        "  n = []\n",
        "  for i in range(3):\n",
        "    n += [coef_list[i]]\n",
        "  n = np.array(n)\n",
        "  n = n / np.linalg.norm(n)\n",
        "  points1 = []\n",
        "  points2 = []\n",
        "  points3 = []\n",
        "  for i in range(L):\n",
        "    points1 += [(points[i][0],points[i][1])]\n",
        "    points2 += [(points[i][1],points[i][2])]\n",
        "    points3 += [(points[i][2],points[i][0])]\n",
        "  A1 = PolygonArea(points1) / (n[2])\n",
        "  A2 = PolygonArea(points2) / (n[0])\n",
        "  A3 = PolygonArea(points3) / (n[1])\n",
        "  Area = (A1 + A2 - A3)\n",
        "  return Area"
      ],
      "metadata": {
        "id": "-M2CxkCtKICv"
      },
      "execution_count": 72,
      "outputs": []
    },
    {
      "cell_type": "code",
      "source": [
        "verticies1 = [[-0.5571,-0.3714,-0.7428],[-0.7636,-1.1758,-0.1857],[-1.5680,-0.7120,0.1857],[-1.3614,0.0924,-0.3714]]\n",
        "print(FaceArea(verticies1))\n",
        "verticies2 = [[-0.6667, -0.6667, -0.3333], [3.6667, -3.3333, 5.3333], [-1.6667, -8.6667, 2.6667], [-5.6667, -0.6667, -5.3333], [1.0000, 6.0000, -2.0000], [0.3333, 5.3333, -2.3333]]\n",
        "print(FaceArea(verticies2))\n",
        "verticies3 = [[1.2113, 1.2113, 2.4226],[-4.9434, 5.0566, 0.1132],[-3.2528, -1.2528, -4.5056],[6.2113, -3.7887, 2.4226],[4.0981, 4.0981, 8.1962]]\n",
        "print(FaceArea(verticies3))"
      ],
      "metadata": {
        "colab": {
          "base_uri": "https://localhost:8080/"
        },
        "id": "XLkC48I4KI5Z",
        "outputId": "747d6bee-6ba2-4770-c7b6-e9333035595f"
      },
      "execution_count": 75,
      "outputs": [
        {
          "output_type": "stream",
          "name": "stdout",
          "text": [
            "1.0001869580671268\n",
            "80.50015418573162\n",
            "83.0003943139428\n"
          ]
        }
      ]
    }
  ]
}