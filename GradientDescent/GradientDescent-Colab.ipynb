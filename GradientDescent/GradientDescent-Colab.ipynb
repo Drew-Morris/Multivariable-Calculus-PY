{
  "cells": [
    {
      "cell_type": "code",
      "execution_count": 2,
      "metadata": {
        "id": "ixEg9pG3F1FO"
      },
      "outputs": [],
      "source": [
        "import numpy as np\n",
        "import random\n",
        "import sympy as sp\n",
        "import scipy.optimize as opt"
      ]
    },
    {
      "cell_type": "code",
      "source": [
        "def newton(fp, fpp, x0, tol, maxiter):\n",
        "    #Problem 1 on http://math.byu.edu/~nick/gradient-descent\n",
        "    #Implement Newton's method.\n",
        "  for i in range(maxiter):\n",
        "    xn = x0 - (fp(x0) / fpp(x0))\n",
        "    if abs(fp(xn) - fp(x0)) < tol:\n",
        "      return (xn, True, i) \n",
        "    else:\n",
        "      x0 = xn\n",
        "  return (x0, False, i)"
      ],
      "metadata": {
        "id": "10Nst7buhgKk"
      },
      "execution_count": 3,
      "outputs": []
    },
    {
      "cell_type": "code",
      "source": [
        "def descent(f, df, x0, tol = 1e-5, maxiter = 100):\n",
        "  #Problem 3 on http://math.byu.edu/~nick/gradient-descent\n",
        "  #Implement the method of steepest descent\n",
        "  x = sp.symbols('x')\n",
        "  for i in range(maxiter):\n",
        "    g = lambda a : f(x0 - a*df(x0))\n",
        "    a_n = opt.minimize_scalar(g).x\n",
        "    h = lambda x : x - a_n*df(x)\n",
        "    xn = h(x0)\n",
        "    if sum(df(xn)[i]**2 for i in range(len(xn)))**(1/2) < tol:\n",
        "      return (xn, True, i)\n",
        "    else:\n",
        "      x0 = xn\n",
        "  return (x0, False, i)"
      ],
      "metadata": {
        "id": "nlJBkt4Zhi9P"
      },
      "execution_count": 20,
      "outputs": []
    },
    {
      "cell_type": "code",
      "execution_count": 6,
      "metadata": {
        "colab": {
          "base_uri": "https://localhost:8080/"
        },
        "id": "hM0rQlg1F1FP",
        "outputId": "b8cb057e-1f53-429b-df2e-81f59d1baa12"
      },
      "outputs": [
        {
          "output_type": "execute_result",
          "data": {
            "text/plain": [
              "(-1.4473142236328096, True, 48)"
            ]
          },
          "metadata": {},
          "execution_count": 6
        }
      ],
      "source": [
        "#Problem 2:\n",
        "#Call your newton function where f = x**2 + sin(5*x), x0 = 0, tol = 1e-10, maxiter = 500\n",
        "x = sp.symbols('x')\n",
        "F = x**2 + sp.sin(5*x)\n",
        "Fp = sp.diff(F, x)\n",
        "Fpp = sp.diff(Fp, x)\n",
        "f = sp.lambdify(x, F)\n",
        "fp = sp.lambdify(x, Fp)\n",
        "fpp = sp.lambdify(x, Fpp)\n",
        "newton(fp, fpp, 0, 1e-10, 500)\n",
        "\n"
      ]
    },
    {
      "cell_type": "code",
      "execution_count": 21,
      "metadata": {
        "id": "kjO-P0T6F1FQ",
        "colab": {
          "base_uri": "https://localhost:8080/"
        },
        "outputId": "06b0a06a-c3e2-4a23-bddb-5c848f2b86eb"
      },
      "outputs": [
        {
          "output_type": "execute_result",
          "data": {
            "text/plain": [
              "(array([9.24407773e-10, 9.24407773e-10, 9.24407773e-10]), True, 0)"
            ]
          },
          "metadata": {},
          "execution_count": 21
        }
      ],
      "source": [
        "#Problem 4:\n",
        "#Call your descent function on \n",
        "f = lambda x : x[0]**4 + x[1]**4 + x[2]**4\n",
        "x0 = [1,1,1]\n",
        "tol = 1e-5\n",
        "maxiter = 100\n",
        "df = lambda x : np.array([4*x[0]**3, 4*x[1]**3, 4*x[2]**3])\n",
        "descent(f, df, x0, tol, maxiter)\n",
        "#Then call it on the Rosenbrock function. The following cell has everything set up for that,\n",
        "#which should help with the first part.\n",
        "\n"
      ]
    },
    {
      "cell_type": "code",
      "execution_count": 22,
      "metadata": {
        "id": "dUN6RLu8F1FR",
        "colab": {
          "base_uri": "https://localhost:8080/"
        },
        "outputId": "33fe2eef-243d-42ee-b513-c4a8073a0188"
      },
      "outputs": [
        {
          "output_type": "execute_result",
          "data": {
            "text/plain": [
              "(array([0.99999002, 0.99997999]), True, 8024)"
            ]
          },
          "metadata": {},
          "execution_count": 22
        }
      ],
      "source": [
        "rosen = lambda x : (1 - x[0])**2 + 100 * (x[1] - x[0]**2)**2\n",
        "drosen = lambda x : np.array([-2*(1 - x[0]) + -200*2*x[0]*(x[1] - x[0]**2), 200*(x[1] - x[0]**2)])\n",
        "x0 = np.array([0,0])\n",
        "descent(rosen, drosen, x0, tol = 1e-5, maxiter = 10000)"
      ]
    }
  ],
  "metadata": {
    "kernelspec": {
      "display_name": "Python 3",
      "language": "python",
      "name": "python3"
    },
    "language_info": {
      "codemirror_mode": {
        "name": "ipython",
        "version": 3
      },
      "file_extension": ".py",
      "mimetype": "text/x-python",
      "name": "python",
      "nbconvert_exporter": "python",
      "pygments_lexer": "ipython3",
      "version": "3.6.5"
    },
    "colab": {
      "name": "GradientDescent-Colab.ipynb",
      "provenance": []
    }
  },
  "nbformat": 4,
  "nbformat_minor": 0
}